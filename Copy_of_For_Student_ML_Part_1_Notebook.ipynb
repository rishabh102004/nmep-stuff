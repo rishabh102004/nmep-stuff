{
  "nbformat": 4,
  "nbformat_minor": 0,
  "metadata": {
    "colab": {
      "provenance": [],
      "include_colab_link": true
    },
    "kernelspec": {
      "name": "python3",
      "display_name": "Python 3"
    },
    "language_info": {
      "name": "python"
    }
  },
  "cells": [
    {
      "cell_type": "markdown",
      "metadata": {
        "id": "view-in-github",
        "colab_type": "text"
      },
      "source": [
        "<a href=\"https://colab.research.google.com/github/rishabh102004/nmep-stuff/blob/main/Copy_of_For_Student_ML_Part_1_Notebook.ipynb\" target=\"_parent\"><img src=\"https://colab.research.google.com/assets/colab-badge.svg\" alt=\"Open In Colab\"/></a>"
      ]
    },
    {
      "cell_type": "markdown",
      "source": [
        "# **Classifier Comparison**\n",
        "\n",
        "Adapted by Jerry O'Connor and Reuben Thomas for Neurotech@Berkeley, based off of [code](https://scikit-learn.org/stable/auto_examples/classification/plot_classifier_comparison.html) written by Gaël Varoquaux and Andreas Müller."
      ],
      "metadata": {
        "id": "JXfmjB3WV741"
      }
    },
    {
      "cell_type": "markdown",
      "source": [
        "A comparison of a several classifiers in scikit-learn on synthetic datasets. This should be taken with a grain of salt, as the intuition conveyed by these examples does not necessarily carry over to real datasets.\n",
        "\n",
        "Particularly in high-dimensional spaces, data can more easily be separated by linear decision boundaries. Here, simpler classifiers, such as the linear SVMs discussed in lecture, produce better generalization than more complex models.  "
      ],
      "metadata": {
        "id": "ORz_cj6BV2qO"
      }
    },
    {
      "cell_type": "markdown",
      "source": [
        "## Import relevant libraries and classes from libraries\n",
        "Numpy and Matplot are standard data science tools, and we'll be using scikit-Learn (sklearn) as our ML library."
      ],
      "metadata": {
        "id": "dm65kixjaQbD"
      }
    },
    {
      "cell_type": "code",
      "source": [
        "# Basic numpy and matplotlib imports\n",
        "import numpy as np\n",
        "import matplotlib.pyplot as plt\n",
        "from matplotlib.colors import ListedColormap\n",
        "\n",
        "# SKlearn imports\n",
        "from sklearn.preprocessing import StandardScaler        # not always necessary\n",
        "from sklearn.pipeline import make_pipeline              # not always necessary\n",
        "from sklearn.datasets import make_moons, make_circles, make_classification\n",
        "from sklearn.model_selection import train_test_split\n",
        "\n",
        "\n",
        "### classifier imports (you can ignore all of these for now)\n",
        "from sklearn.neural_network import MLPClassifier\n",
        "from sklearn.neighbors import KNeighborsClassifier\n",
        "from sklearn.gaussian_process import GaussianProcessClassifier\n",
        "from sklearn.gaussian_process.kernels import RBF\n",
        "from sklearn.tree import DecisionTreeClassifier\n",
        "from sklearn.svm import SVC\n",
        "from sklearn.ensemble import RandomForestClassifier, AdaBoostClassifier\n",
        "from sklearn.naive_bayes import GaussianNB\n",
        "from sklearn.discriminant_analysis import QuadraticDiscriminantAnalysis\n",
        "from sklearn.inspection import DecisionBoundaryDisplay"
      ],
      "metadata": {
        "id": "nAYVLo19XcKf"
      },
      "execution_count": 1,
      "outputs": []
    },
    {
      "cell_type": "markdown",
      "source": [
        "# Classifiers: Names and Models"
      ],
      "metadata": {
        "id": "3F39CEFcaZ4q"
      }
    },
    {
      "cell_type": "code",
      "source": [
        "# Classifier names (str)\n",
        "names = [\n",
        "    \"Naive Bayes\",\n",
        "    \"Nearest Neighbors\",\n",
        "    \"Decision Tree\",\n",
        "    \"Linear SVM\",\n",
        "    \"Random Forest\",\n",
        "    \"Nonlinear (RBF) SVM\", # radial basis function - nonlinear\n",
        "    \"Fully-Connected Neural Net\",\n",
        "]\n",
        "\n",
        "# Models -- instantiated classifier objects\n",
        "classifiers = [\n",
        "    KNeighborsClassifier(3),\n",
        "    SVC(kernel=\"linear\", C=0.025),\n",
        "    SVC(kernel = \"rbf\", gamma=2, C=1),\n",
        "    DecisionTreeClassifier(max_depth=5),\n",
        "    RandomForestClassifier(max_depth=5, n_estimators=10, max_features=1),\n",
        "    MLPClassifier(alpha=1, max_iter=1000),\n",
        "    GaussianNB()\n",
        "]"
      ],
      "metadata": {
        "id": "7vEzM7XuX6Cw"
      },
      "execution_count": 2,
      "outputs": []
    },
    {
      "cell_type": "markdown",
      "source": [
        "**Question 1:** These models are listed from simplest to most complex. How does the 'complexity' of a model (a general measure of its internal structure and number of parameters) affect its ability to work with different kinds of data?\n",
        "\n",
        "Think about why sometimes a simpler model might be better and other times a more complex model is needed. Consider how easy it is to understand what the model is doing, how well it avoids learning the data too closely (overfitting), how much computing power it needs, and how well it can make predictions on new, unseen data.\n"
      ],
      "metadata": {
        "id": "FfJ7P4_UYBbK"
      }
    },
    {
      "cell_type": "markdown",
      "source": [
        "**Response:**\n",
        "a simpler model may be better if the data is pretty binary in what you are trying to classify (for example dogs and cats) and you need to cut down on processing speed. A more complex model is more advantageous if the data is more nuanced, so that the model can make better predictions on new data."
      ],
      "metadata": {
        "id": "89r6rE0gYRTO"
      }
    },
    {
      "cell_type": "markdown",
      "source": [
        "# Generate Synthetic Datasets\n",
        "You can ignore this process entirely. It may never be relevant to you, but you can read more about the use of synthetic data [here](https://opendatascience.com/the-expanding-importance-of-synthetic-data/).\n",
        "\n",
        "When we do use synthetic data, it will likely be generated through a synthetic board from a library like BrainFlow, rather than randomly generating a distribution as is being done below."
      ],
      "metadata": {
        "id": "FWn11tAUaigN"
      }
    },
    {
      "cell_type": "code",
      "execution_count": 3,
      "metadata": {
        "id": "rnaUQ33dCX6m"
      },
      "outputs": [],
      "source": [
        "# Get our input dataset and output labels\n",
        "X, y = make_classification(\n",
        "    n_features=2, n_redundant=0, n_informative=2, random_state=1, n_clusters_per_class=1\n",
        ")\n",
        "rng = np.random.RandomState(2)\n",
        "X += 2 * rng.uniform(size=X.shape)\n",
        "linearly_separable = (X, y)"
      ]
    },
    {
      "cell_type": "code",
      "source": [
        "# Load datasets based on earlier imports and X, y data\n",
        "# Again, you can ignore this process and consider just the final composition of datasets (a list of datasets)\n",
        "datasets = [\n",
        "    make_moons(noise=0.3, random_state=0),\n",
        "    make_circles(noise=0.2, factor=0.5, random_state=1),\n",
        "    linearly_separable,\n",
        "]"
      ],
      "metadata": {
        "id": "vCfDl9k4Va1o"
      },
      "execution_count": 4,
      "outputs": []
    },
    {
      "cell_type": "code",
      "source": [
        "### Plot the datasets to see what they look like\n",
        "\n",
        "def plot_datasets(dataset1, dataset2, dataset3):\n",
        "    \"\"\"\n",
        "    Plots three datasets side by side. Each dataset contains 2D coordinates (X) and binary labels (Y).\n",
        "\n",
        "    Parameters:\n",
        "    dataset1, dataset2, dataset3 (tuple): Each tuple contains X (2D coordinates) and Y (binary labels).\n",
        "    \"\"\"\n",
        "    fig, axes = plt.subplots(1, 3, figsize=(15, 5))\n",
        "\n",
        "    for ax, (X, Y), title in zip(axes, [dataset1, dataset2, dataset3], ['Dataset 1', 'Dataset 2', 'Dataset 3']):\n",
        "        # Scatter plot for each class\n",
        "        ax.scatter(X[Y == 0][:, 0], X[Y == 0][:, 1], c='blue', label='Class 0', alpha=0.5)\n",
        "        ax.scatter(X[Y == 1][:, 0], X[Y == 1][:, 1], c='red', label='Class 1', alpha=0.5)\n",
        "        ax.set_title(title)\n",
        "        ax.set_xlabel('Feature 1')\n",
        "        ax.set_ylabel('Feature 2')\n",
        "        ax.legend()\n",
        "\n",
        "    plt.tight_layout()\n",
        "    plt.show()\n",
        "\n",
        "plot_datasets(datasets[0], datasets[1], datasets[2])\n"
      ],
      "metadata": {
        "colab": {
          "base_uri": "https://localhost:8080/",
          "height": 397
        },
        "id": "-XIzWMXqWXcX",
        "outputId": "032b2a13-5c36-4c2a-fba2-caa6c2bb1e6e"
      },
      "execution_count": 5,
      "outputs": [
        {
          "output_type": "display_data",
          "data": {
            "text/plain": [
              "<Figure size 1500x500 with 3 Axes>"
            ],
            "image/png": "[encoded data removed]"
          },
          "metadata": {}
        }
      ]
    },
    {
      "cell_type": "markdown",
      "source": [
        "# Training and Test Data split\n",
        "\n",
        "Splitting the training and test data helps us make sure that our training data is not overfitting to the training data we give it!\n",
        "\n",
        "### Test vs Validation\n",
        "- Best practice is to split training and testing data\n",
        "- Avoids testing on data that’s been “seen” before\n",
        "- Common: 80/20 split\n",
        "- Random, representative sampling to avoid bias\n",
        "We split training data into test data for validation!"
      ],
      "metadata": {
        "id": "E_DL4a5paOQR"
      }
    },
    {
      "cell_type": "code",
      "source": [
        "def demo_train_test_split(X,y, test_size):\n",
        "  # TODO: implement a function in numpy and/or pandas to generate a valid train/test split\n",
        "  pass"
      ],
      "metadata": {
        "id": "fmUuHSJ2uGJa"
      },
      "execution_count": 6,
      "outputs": []
    },
    {
      "cell_type": "code",
      "source": [
        "from sklearn.model_selection import train_test_split\n",
        "# important -> https://scikit-learn.org/stable/modules/generated/sklearn.model_selection.train_test_split.html\n",
        "\n",
        "# Get linear dataset\n",
        "X, y = datasets[2]\n",
        "\n",
        "# Test train split\n",
        "X_train, X_test, y_train, y_test = demo_train_test_split(\n",
        "        X, y, test_size = .02) # 20% of data to training\n",
        "\n",
        "\n",
        "\n",
        "X_train.shape, X_test.shape, y_train.shape, y_test.shape # shows us the sizes of data"
      ],
      "metadata": {
        "colab": {
          "base_uri": "https://localhost:8080/",
          "height": 216
        },
        "id": "n_gNWGHkaMyx",
        "outputId": "41060a40-eb89-4532-903d-cebc72229345"
      },
      "execution_count": 8,
      "outputs": [
        {
          "output_type": "error",
          "ename": "TypeError",
          "evalue": "cannot unpack non-iterable NoneType object",
          "traceback": [
            "\u001b[0;31m---------------------------------------------------------------------------\u001b[0m",
            "\u001b[0;31mTypeError\u001b[0m                                 Traceback (most recent call last)",
            "\u001b[0;32m<ipython-input-8-bf04a2b4f339>\u001b[0m in \u001b[0;36m<cell line: 8>\u001b[0;34m()\u001b[0m\n\u001b[1;32m      6\u001b[0m \u001b[0;34m\u001b[0m\u001b[0m\n\u001b[1;32m      7\u001b[0m \u001b[0;31m# Test train split\u001b[0m\u001b[0;34m\u001b[0m\u001b[0;34m\u001b[0m\u001b[0m\n\u001b[0;32m----> 8\u001b[0;31m X_train, X_test, y_train, y_test = demo_train_test_split(\n\u001b[0m\u001b[1;32m      9\u001b[0m         X, y, test_size = .02) # 20% of data to training\n\u001b[1;32m     10\u001b[0m \u001b[0;34m\u001b[0m\u001b[0m\n",
            "\u001b[0;31mTypeError\u001b[0m: cannot unpack non-iterable NoneType object"
          ]
        }
      ]
    },
    {
      "cell_type": "markdown",
      "source": [
        "# Simplistic Implementation of Linear SVM Classifier"
      ],
      "metadata": {
        "id": "DNsNHMXEebIS"
      }
    },
    {
      "cell_type": "code",
      "source": [
        "from sklearn import metrics\n",
        "\n",
        "from sklearn.svm import SVC # https://scikit-learn.org/stable/modules/generated/sklearn.svm.SVC.html#sklearn.svm.SVC\n",
        "                            # Other related:\n",
        "                            # - https://scikit-learn.org/stable/modules/generated/sklearn.svm.LinearSVC.html#sklearn.svm.LinearSVC\n",
        "\n",
        "# TODO: WHICH KERNEL TYPE ARE WE USING? (WHAT DOES THE DECISION BOUNDARY LOOK LIKE FOR THIS CLASSIFIER TYPE?)\n",
        "svc_classifier = SVC(kernel='linear', C=0.025) # can use other kernels: ‘linear’, ‘poly’, ‘rbf’, ‘sigmoid’, ‘precomputed’"
      ],
      "metadata": {
        "id": "n0565F8ldWcO"
      },
      "execution_count": 9,
      "outputs": []
    },
    {
      "cell_type": "code",
      "source": [
        "# train\n",
        "svc_classifier.fit(X_train, y_train)"
      ],
      "metadata": {
        "colab": {
          "base_uri": "https://localhost:8080/",
          "height": 162
        },
        "id": "OupHk1z5c6v7",
        "outputId": "885d36f0-bd35-48cd-c2b0-b3d9d3a95efc"
      },
      "execution_count": 10,
      "outputs": [
        {
          "output_type": "error",
          "ename": "NameError",
          "evalue": "name 'X_train' is not defined",
          "traceback": [
            "\u001b[0;31m---------------------------------------------------------------------------\u001b[0m",
            "\u001b[0;31mNameError\u001b[0m                                 Traceback (most recent call last)",
            "\u001b[0;32m<ipython-input-10-3bdefb4fa351>\u001b[0m in \u001b[0;36m<cell line: 2>\u001b[0;34m()\u001b[0m\n\u001b[1;32m      1\u001b[0m \u001b[0;31m# train\u001b[0m\u001b[0;34m\u001b[0m\u001b[0;34m\u001b[0m\u001b[0m\n\u001b[0;32m----> 2\u001b[0;31m \u001b[0msvc_classifier\u001b[0m\u001b[0;34m.\u001b[0m\u001b[0mfit\u001b[0m\u001b[0;34m(\u001b[0m\u001b[0mX_train\u001b[0m\u001b[0;34m,\u001b[0m \u001b[0my_train\u001b[0m\u001b[0;34m)\u001b[0m\u001b[0;34m\u001b[0m\u001b[0;34m\u001b[0m\u001b[0m\n\u001b[0m",
            "\u001b[0;31mNameError\u001b[0m: name 'X_train' is not defined"
          ]
        }
      ]
    },
    {
      "cell_type": "code",
      "source": [
        "# Predict classifications for test dataset\n",
        "y_pred = svc_classifier.predict(X_test)\n",
        "\n",
        "# Accuracy\n",
        "print(metrics.classification_report(y_test,y_pred))"
      ],
      "metadata": {
        "colab": {
          "base_uri": "https://localhost:8080/"
        },
        "id": "NNzjwISMc8x3",
        "outputId": "364ad504-262f-4182-f576-220f34a6ee7c"
      },
      "execution_count": null,
      "outputs": [
        {
          "output_type": "stream",
          "name": "stdout",
          "text": [
            "              precision    recall  f1-score   support\n",
            "\n",
            "           0       0.82      1.00      0.90         9\n",
            "           1       1.00      0.82      0.90        11\n",
            "\n",
            "    accuracy                           0.90        20\n",
            "   macro avg       0.91      0.91      0.90        20\n",
            "weighted avg       0.92      0.90      0.90        20\n",
            "\n"
          ]
        }
      ]
    },
    {
      "cell_type": "code",
      "source": [],
      "metadata": {
        "id": "7mbpqgScdClw"
      },
      "execution_count": null,
      "outputs": []
    },
    {
      "cell_type": "markdown",
      "source": [
        "**Question 2**: What is the accuracy score for this model and what is the score for the corresponding model in the set of plots? How do they compare?"
      ],
      "metadata": {
        "id": "WFlUir1jf7FQ"
      }
    },
    {
      "cell_type": "markdown",
      "source": [
        "The accuracy score of this model is 91% and the score of the corresponding model in the set of plots is 90%."
      ],
      "metadata": {
        "id": "n5x_cwcySsKA"
      }
    },
    {
      "cell_type": "markdown",
      "source": [
        "# Plot\n",
        "\n",
        "Upon running the following code cell, you will observe that plots show training points in solid colors and testing points semi-transparent. The lower right shows the classification accuracy on the test set.\n",
        "\n",
        "Comments have been added to increase readibility. As you parse through, ignore all calls to plotting and formatting functions (anything from plt)."
      ],
      "metadata": {
        "id": "SPY_WPWBbSbs"
      }
    },
    {
      "cell_type": "code",
      "source": [
        "figure = plt.figure(figsize=(27, 9))\n",
        "i = 1\n",
        "\n",
        "# iterate over datasets from before\n",
        "for ds_cnt, ds in enumerate(datasets):\n",
        "    # preprocess dataset, split into training and test part\n",
        "    X, y = ds\n",
        "\n",
        "    # This function splits our dataset into training and testing data automatically\n",
        "    # TODO: think about a way to implement a simple train_test_split() function using basic numpy and pandas functionality\n",
        "    X_train, X_test, y_train, y_test = demo_train_test_split(\n",
        "        X, y, test_size=0.4\n",
        "    )\n",
        "\n",
        "    # calc min and max of data\n",
        "    x_min, x_max = X[:, 0].min() - 0.5, X[:, 0].max() + 0.5\n",
        "    y_min, y_max = X[:, 1].min() - 0.5, X[:, 1].max() + 0.5\n",
        "\n",
        "    # just plot the dataset first\n",
        "    cm = plt.cm.RdBu\n",
        "    cm_bright = ListedColormap([\"#FF0000\", \"#0000FF\"])\n",
        "    ax = plt.subplot(len(datasets), len(classifiers) + 1, i)\n",
        "    if ds_cnt == 0:\n",
        "        ax.set_title(\"Input data\")\n",
        "\n",
        "    # plot the training points\n",
        "    ax.scatter(X_train[:, 0], X_train[:, 1], c=y_train, cmap=cm_bright, edgecolors=\"k\")\n",
        "\n",
        "    # plot the testing points\n",
        "    ax.scatter(\n",
        "        X_test[:, 0], X_test[:, 1], c=y_test, cmap=cm_bright, alpha=0.6, edgecolors=\"k\"\n",
        "    )\n",
        "    ax.set_xlim(x_min, x_max)\n",
        "    ax.set_ylim(y_min, y_max)\n",
        "    ax.set_xticks(())\n",
        "    ax.set_yticks(())\n",
        "    i += 1\n",
        "\n",
        "    # test each classifier\n",
        "    for name, clf in zip(names, classifiers):\n",
        "        ax = plt.subplot(len(datasets), len(classifiers) + 1, i)\n",
        "\n",
        "        # Step with make_pipeline is optional\n",
        "        clf = make_pipeline(StandardScaler(), clf)\n",
        "\n",
        "        # Fit the model to training data\n",
        "        clf.fit(X_train, y_train)\n",
        "\n",
        "        # Test the classifier's predictions on test dataset\n",
        "        # Calculate accuracy score based on test classification accuracy\n",
        "        score = clf.score(X_test, y_test)\n",
        "        DecisionBoundaryDisplay.from_estimator(\n",
        "            clf, X, cmap=cm, alpha=0.8, ax=ax, eps=0.5\n",
        "        )\n",
        "\n",
        "        # Plot the training points\n",
        "        ax.scatter(\n",
        "            X_train[:, 0], X_train[:, 1], c=y_train, cmap=cm_bright, edgecolors=\"k\"\n",
        "        )\n",
        "\n",
        "        # Plot the testing points\n",
        "        ax.scatter(\n",
        "            X_test[:, 0],\n",
        "            X_test[:, 1],\n",
        "            c=y_test,\n",
        "            cmap=cm_bright,\n",
        "            edgecolors=\"k\",\n",
        "            alpha=0.6,\n",
        "        )\n",
        "\n",
        "        ax.set_xlim(x_min, x_max)\n",
        "        ax.set_ylim(y_min, y_max)\n",
        "        ax.set_xticks(())\n",
        "        ax.set_yticks(())\n",
        "        if ds_cnt == 0:\n",
        "            ax.set_title(name)\n",
        "        ax.text(\n",
        "            x_max - 0.3,\n",
        "            y_min + 0.3,\n",
        "            (\"%.2f\" % score).lstrip(\"0\"),\n",
        "            size=15,\n",
        "            horizontalalignment=\"right\",\n",
        "        )\n",
        "        i += 1\n",
        "\n",
        "plt.tight_layout()\n",
        "plt.show()"
      ],
      "metadata": {
        "colab": {
          "base_uri": "https://localhost:8080/",
          "height": 233
        },
        "id": "3Cm3wdC0XTyk",
        "outputId": "41595e4d-d0c2-49bc-9d94-a5049f8850a0"
      },
      "execution_count": 11,
      "outputs": [
        {
          "output_type": "error",
          "ename": "TypeError",
          "evalue": "cannot unpack non-iterable NoneType object",
          "traceback": [
            "\u001b[0;31m---------------------------------------------------------------------------\u001b[0m",
            "\u001b[0;31mTypeError\u001b[0m                                 Traceback (most recent call last)",
            "\u001b[0;32m<ipython-input-11-51b7b8db3d8b>\u001b[0m in \u001b[0;36m<cell line: 5>\u001b[0;34m()\u001b[0m\n\u001b[1;32m      9\u001b[0m     \u001b[0;31m# This function splits our dataset into training and testing data automatically\u001b[0m\u001b[0;34m\u001b[0m\u001b[0;34m\u001b[0m\u001b[0m\n\u001b[1;32m     10\u001b[0m     \u001b[0;31m# TODO: think about a way to implement a simple train_test_split() function using basic numpy and pandas functionality\u001b[0m\u001b[0;34m\u001b[0m\u001b[0;34m\u001b[0m\u001b[0m\n\u001b[0;32m---> 11\u001b[0;31m     X_train, X_test, y_train, y_test = demo_train_test_split(\n\u001b[0m\u001b[1;32m     12\u001b[0m         \u001b[0mX\u001b[0m\u001b[0;34m,\u001b[0m \u001b[0my\u001b[0m\u001b[0;34m,\u001b[0m \u001b[0mtest_size\u001b[0m\u001b[0;34m=\u001b[0m\u001b[0;36m0.4\u001b[0m\u001b[0;34m\u001b[0m\u001b[0;34m\u001b[0m\u001b[0m\n\u001b[1;32m     13\u001b[0m     )\n",
            "\u001b[0;31mTypeError\u001b[0m: cannot unpack non-iterable NoneType object"
          ]
        },
        {
          "output_type": "display_data",
          "data": {
            "text/plain": [
              "<Figure size 2700x900 with 0 Axes>"
            ]
          },
          "metadata": {}
        }
      ]
    },
    {
      "cell_type": "markdown",
      "source": [
        "**Question 3**: Based on the plots you produced, make some judgements about how well the Linear SVM captures the distributions in the datasets. By visual inspection, which plot shows the best separation of the data by the Linear SVM?"
      ],
      "metadata": {
        "id": "DYlBGwtutlpA"
      }
    },
    {
      "cell_type": "markdown",
      "source": [
        "**Response:**\n",
        "I can not judge these because there seems to be an error in the distribution of the datasets."
      ],
      "metadata": {
        "id": "yHnH-FoBxTpU"
      }
    },
    {
      "cell_type": "markdown",
      "source": [
        "**Question 4**: Is this reflected by the accuracy scores in the bottom right corner? Does the Linear SVM perform the best (based on accuracy score) on the dataset you selected from above?"
      ],
      "metadata": {
        "id": "-cONohJqxTtd"
      }
    },
    {
      "cell_type": "markdown",
      "source": [
        "**Response:**\n",
        "Again, cannot judge these because I do not have access to the plots in the bottom right corner."
      ],
      "metadata": {
        "id": "aPIf3hSWxbFU"
      }
    },
    {
      "cell_type": "markdown",
      "source": [
        "**Question 5**: Recall our earlier discussion of model complexity. In the plot, our models are listed in ascending complexity from left to right. Is a more complex model necessarily always accurate? If not, is there a so-called \"sweet spot\" of complexity for this dataset? If we were to time the training and inference of our models, which take the longest?  "
      ],
      "metadata": {
        "id": "8TU62PIDxTvR"
      }
    },
    {
      "cell_type": "markdown",
      "source": [
        "**Response:**\n",
        "No, more complex models are not always the most accurate, because there is always a chance of overfitting if its too fit to the training data."
      ],
      "metadata": {
        "id": "jtES7etwxb_D"
      }
    }
  ]
}